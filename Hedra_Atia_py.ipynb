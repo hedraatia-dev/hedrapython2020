{
  "cells": [
    {
      "cell_type": "markdown",
      "metadata": {
        "id": "view-in-github",
        "colab_type": "text"
      },
      "source": [
        "<a href=\"https://colab.research.google.com/github/hedraatia-dev/hedrapython2020/blob/master/Hedra_Atia_py.ipynb\" target=\"_parent\"><img src=\"https://colab.research.google.com/assets/colab-badge.svg\" alt=\"Open In Colab\"/></a>"
      ]
    },
    {
      "cell_type": "markdown",
      "metadata": {
        "id": "ecF0moiHh3PJ"
      },
      "source": [
        "# مراجعة وتطبيق على اغلب ما تعلمنا فى كورس  أساسيات بايثون  عبارة عن\n",
        "c.v"
      ]
    },
    {
      "cell_type": "code",
      "execution_count": 44,
      "metadata": {
        "id": "_JLL0HoD6Bxq"
      },
      "outputs": [],
      "source": [
        "# ---------------------------------------\n",
        "# -- Function Parameters And Arguments --\n",
        "# ---------------------------------------\n",
        "# -- Function Default Parameters --\n",
        "# ---------------------------------\n",
        "\n",
        "def my_info(first, middle, last, country=\"Unknown\"):\n",
        "\n",
        "  print(f\"My Name:  {first.strip().capitalize()} {middle.upper():.1s} {last.capitalize()}\\nand My Country Is {country}\")\n",
        "\n"
      ]
    },
    {
      "cell_type": "code",
      "execution_count": 45,
      "metadata": {
        "id": "v-c1njAFO2Er"
      },
      "outputs": [],
      "source": [
        "# -------------------------------------\n",
        "# -- Practical My Age Full Details --\n",
        "# -------------------------------------\n",
        "\n",
        "def my_age(nowYear, birthYear):\n",
        "\n",
        "    n1 = nowYear\n",
        "    n2 = birthYear\n",
        "\n",
        "    if type(n1) != int or type(n2) != int:\n",
        "\n",
        "     print(\"Only Integers Allowed\")\n",
        "\n",
        "    else:\n",
        "      age = n1 - n2\n",
        "\n",
        "      print(f\"My Age is {age} \\n\")\n",
        "\n",
        "      #age = nowYear - birthYear\n",
        "      # Get Age in All Time Units\n",
        "      months = age * 12\n",
        "      weeks = months * 4\n",
        "      days = age * 365\n",
        "      hours = days * 24\n",
        "      minutes = hours * 60\n",
        "      seconds = minutes * 60\n",
        "\n",
        "\n",
        "      print('That mean')\n",
        "      print('---------------------')\n",
        "      print('I am Lived For:')\n",
        "      print(f\"{months} Months.\")\n",
        "      print(f\"{weeks:,} Weeks.\")\n",
        "      print(f\"{days:,} Days.\")\n",
        "      print(f\"{hours:,} Hours.\")\n",
        "      print(f\"{minutes:,} Minutes.\")\n",
        "      print(f\"{seconds:,} Seconds.\")"
      ]
    },
    {
      "cell_type": "code",
      "execution_count": 46,
      "metadata": {
        "id": "FXazDqkC6tUK"
      },
      "outputs": [],
      "source": [
        "def show_details(*jobs, **skillsDict):\n",
        "  # ---------------------------------\n",
        "  # -- Function Packing, Unpacking Arguments Trainings --\n",
        "  # -----------------------------------------------------\n",
        "  print(\"#\"*25)\n",
        "  print(\"My work  Is: \")\n",
        "  print(\"#\"*25)\n",
        "\n",
        "  \n",
        "  for job in jobs:\n",
        "    #هنا هنعوض ب list اوtuple\n",
        "    print(\"--------------\")\n",
        "    print(f\"# {job}\")\n",
        "\n",
        "  print(\"#\"*25)\n",
        "  print(\"My Level of Skills  Is: \")\n",
        "  print(\"#\"*25)\n",
        "\n",
        "  for skill_key, skill_value in skillsDict.items():\n",
        "    #هنا هنعوض ب dictionary\n",
        "    print(\"---------------------\")\n",
        "    print(f\"# {skill_key} | {skill_value}\")"
      ]
    },
    {
      "cell_type": "code",
      "execution_count": 47,
      "metadata": {
        "id": "EPsAL7thjUSu"
      },
      "outputs": [],
      "source": [
        "def myMail(N, E):\n",
        "    # ---------------------------\n",
        "    # -- Practical Slice Email --\n",
        "    # ---------------------------\n",
        "\n",
        "    theName = N.strip().capitalize()\n",
        "    theEmail = E.strip()\n",
        "\n",
        "    theUsername = theEmail[:theEmail.index(\"@\")]\n",
        "    theWebsite = theEmail[theEmail.index(\"@\") + 1:]\n",
        "\n",
        "    print(f\"Hello {theName} My Email Is {theEmail}\")\n",
        "    print(f\"My Username Is {theUsername} \\nMy Website Is {theWebsite}\")\n"
      ]
    },
    {
      "cell_type": "code",
      "execution_count": 48,
      "metadata": {
        "id": "1vBO2sIECjrK"
      },
      "outputs": [],
      "source": [
        "def c_v():\n",
        "\n",
        "  print(\"C.V\")\n",
        "  print(\"#\"*25)\n",
        "  my_info(first, middle, last)\n",
        "  print(\"#\"*25)\n",
        "  my_age(nowYear, birthYear)\n",
        "  print(\"#\"*25)\n",
        "\n",
        "  show_details(*jobs, **skillsDict)\n",
        "  print(\"#\"*25)\n",
        "  myMail(N, E)\n"
      ]
    },
    {
      "cell_type": "code",
      "execution_count": 49,
      "metadata": {
        "colab": {
          "base_uri": "https://localhost:8080/"
        },
        "id": "LMY49MJfEl2w",
        "outputId": "c888dc08-ad45-4cc5-c2ee-cf8fd25799f9"
      },
      "outputs": [
        {
          "output_type": "stream",
          "name": "stdout",
          "text": [
            "C.V\n",
            "#########################\n",
            "My Name:  Hedra A Ebrahim\n",
            "and My Country Is Unknown\n",
            "#########################\n",
            "My Age is 37 \n",
            "\n",
            "That mean\n",
            "---------------------\n",
            "I am Lived For:\n",
            "444 Months.\n",
            "1,776 Weeks.\n",
            "13,505 Days.\n",
            "324,120 Hours.\n",
            "19,447,200 Minutes.\n",
            "1,166,832,000 Seconds.\n",
            "#########################\n",
            "#########################\n",
            "My work  Is: \n",
            "#########################\n",
            "--------------\n",
            "# Data Analyst\n",
            "--------------\n",
            "# Developer\n",
            "--------------\n",
            "# Acc\n",
            "#########################\n",
            "My Level of Skills  Is: \n",
            "#########################\n",
            "---------------------\n",
            "# Excel | 80%\n",
            "---------------------\n",
            "# Python | 70%\n",
            "---------------------\n",
            "# MySQL | 60%\n",
            "#########################\n",
            "Hello Hedra atia My Email Is hedraatia2020@gmail.com\n",
            "My Username Is hedraatia2020 \n",
            "My Website Is gmail.com\n"
          ]
        }
      ],
      "source": [
        "jobs  = [\"Data Analyst\", \"Developer\", \"Acc\"]\n",
        "\n",
        "skillsDict = {\n",
        "  'Excel' : \"80%\",\n",
        "  'Python': \"70%\",\n",
        "  'MySQL' : \"60%\"\n",
        "}\n",
        "\n",
        "first, middle, last =\" Hedra\", \"Atia\", \"Ebrahim\"\n",
        "nowYear = 2022\n",
        "birthYear = 1985\n",
        "N = \" Hedra Atia\"\n",
        "E = \"hedraatia2020@gmail.com\"\n",
        "\n",
        "c_v()"
      ]
    },
    {
      "cell_type": "code",
      "execution_count": 50,
      "metadata": {
        "colab": {
          "base_uri": "https://localhost:8080/"
        },
        "id": "aczZv2Hzp42M",
        "outputId": "3068ab40-2646-48c5-cc52-dc2279acd08f"
      },
      "outputs": [
        {
          "output_type": "stream",
          "name": "stdout",
          "text": [
            "What's Is Your First Name?mark\n",
            "What's Is Your Middle Name?zz\n",
            "What's Is Your Last Name?birg\n",
            "What's Is Your other job? or Enter end : \n",
            "meta\n",
            "What's Is Your other job? or Enter end : \n",
            "face\n",
            "What's Is Your other job? or Enter end : \n",
            "ai\n",
            "What's Is Your other skill? or Enter end : \n",
            "programming\n",
            "What's Is Your other skill by % ? or Enter end : \n",
            "90%\n",
            "What's Is Your other skill? or Enter end : \n",
            "python\n",
            "What's Is Your other skill by % ? or Enter end : \n",
            "95%\n",
            "What's Is Your other skill? or Enter end : \n",
            "ai\n",
            "What's Is Your other skill by % ? or Enter end : \n",
            "70%\n",
            "What's Your  nowYear?2022\n",
            "What's Your birthYear?1985\n",
            "What's Your Name ?Mark z brg\n",
            "What's Your Email ?mark@gmail.com\n",
            "C.V\n",
            "#########################\n",
            "My Name:  Mark Z Birg\n",
            "and My Country Is Unknown\n",
            "#########################\n",
            "My Age is 37 \n",
            "\n",
            "That mean\n",
            "---------------------\n",
            "I am Lived For:\n",
            "444 Months.\n",
            "1,776 Weeks.\n",
            "13,505 Days.\n",
            "324,120 Hours.\n",
            "19,447,200 Minutes.\n",
            "1,166,832,000 Seconds.\n",
            "#########################\n",
            "#########################\n",
            "My work  Is: \n",
            "#########################\n",
            "--------------\n",
            "# meta\n",
            "--------------\n",
            "# face\n",
            "--------------\n",
            "# ai\n",
            "#########################\n",
            "My Level of Skills  Is: \n",
            "#########################\n",
            "---------------------\n",
            "# programming | 90%\n",
            "---------------------\n",
            "# python | 95%\n",
            "---------------------\n",
            "# ai | 70%\n",
            "#########################\n",
            "Hello Mark z brg My Email Is mark@gmail.com\n",
            "My Username Is mark \n",
            "My Website Is gmail.com\n"
          ]
        }
      ],
      "source": [
        "# ----------------\n",
        "# -- User Input --\n",
        "# ----------------\n",
        "\n",
        "first = input('What\\'s Is Your First Name?')\n",
        "middle = input('What\\'s Is Your Middle Name?')\n",
        "last = input('What\\'s Is Your Last Name?')\n",
        "\n",
        "def jobs_f():\n",
        "\n",
        "  jobs  = []\n",
        "  for i in range(1, 4):\n",
        "    \n",
        "    j = input(\"What\\'s Is Your other job? or Enter end : \\n\")\n",
        "    #print(j)\n",
        "\n",
        "    if j == \"end\":\n",
        "      #print(\"---------\")\n",
        "      break\n",
        "    else:\n",
        "      jobs.append(j)\n",
        "      #print(\"-----@----\")\n",
        "      #print(jobs)\n",
        "\n",
        "      #continue\n",
        "  return jobs\n",
        "\n",
        "jobs = jobs_f()\n",
        "\n",
        "def skills_f():\n",
        "\n",
        "  skillsDict = {}\n",
        "  for i in range(1, 4):\n",
        "    \n",
        "    skill_key = input('What\\'s Is Your other skill? or Enter end : \\n')\n",
        "    skill_value = input('What\\'s Is Your other skill by % ? or Enter end : \\n')\n",
        "    if skill_key == \"no\":\n",
        "      break\n",
        "    else:\n",
        "      #jobs.append(j)\n",
        "      skillsDict.update({skill_key: skill_value})\n",
        "\n",
        "      continue\n",
        "\n",
        "  return skillsDict\n",
        "\n",
        "skillsDict = skills_f()\n",
        "\n",
        "\n",
        "nowYear = int(input('What\\'s Your  nowYear?'))\n",
        "birthYear = int(input('What\\'s Your birthYear?'))\n",
        "\n",
        "N = input('What\\'s Your Name ?').strip().capitalize()\n",
        "E = input('What\\'s Your Email ?').strip()\n",
        "\n",
        "c_v()"
      ]
    }
  ],
  "metadata": {
    "colab": {
      "name": "Hedra_Atia_py.ipynb",
      "provenance": [],
      "authorship_tag": "ABX9TyMGMt7T7mJObeLV+GyQriJ6",
      "include_colab_link": true
    },
    "kernelspec": {
      "display_name": "Python 3",
      "name": "python3"
    },
    "language_info": {
      "name": "python"
    }
  },
  "nbformat": 4,
  "nbformat_minor": 0
}